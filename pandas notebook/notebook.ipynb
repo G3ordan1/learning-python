{
 "cells": [
  {
   "cell_type": "markdown",
   "metadata": {},
   "source": [
    "# Pandas\n",
    "\n",
    "Here, we create a function pct30 which returns the 30th percentile of a column. Then we use the agg method to apply the function on the column. \n",
    "\n",
    "Then, we just do:\n"
   ]
  },
  {
   "cell_type": "markdown",
   "metadata": {},
   "source": [
    "```python\n",
    "def pct30(column):\n",
    "    return column.percentile(30)\n",
    "\n",
    "df[\"column\"].agg(pct30)\n",
    "```"
   ]
  },
  {
   "cell_type": "markdown",
   "metadata": {},
   "source": [
    "We can also add multiple columns and multiple functions as a list."
   ]
  },
  {
   "cell_type": "markdown",
   "metadata": {},
   "source": [
    "### Cumsum\n",
    "\n",
    "Cumsum returns a kind of cumulative frequency where the 2nd row becomes the sum of 1st and second row."
   ]
  },
  {
   "cell_type": "markdown",
   "metadata": {},
   "source": [
    "```python\n",
    "df[\"column\"].cumsum()\n",
    "```"
   ]
  },
  {
   "cell_type": "markdown",
   "metadata": {},
   "source": [
    "other functions include \n",
    "\n",
    "cumprod <br>\n",
    "cummax <br>\n",
    "cummin <br>"
   ]
  },
  {
   "cell_type": "markdown",
   "metadata": {},
   "source": [
    "### Drop dupes\n",
    "To filter for unique occurances we use drop_duplicates. We can filter out single or multiple columns. "
   ]
  },
  {
   "cell_type": "markdown",
   "metadata": {},
   "source": [
    "```python\n",
    "vet_visits.drop_duplicates(subset=\"name\")\n",
    "OR\n",
    "unique_dogs = vet_visits.drop_duplicates(subset=[\"name\", \"breed\"])\n",
    "\n",
    "To get the counts use:\n",
    "unique_dogs[\"breed\"].value_counts(sort=True \"To sort the values\", normalize=True \"To make each value a proportion of the total\")\n",
    "```"
   ]
  }
 ],
 "metadata": {
  "kernelspec": {
   "display_name": "Python 3 (ipykernel)",
   "language": "python",
   "name": "python3"
  },
  "language_info": {
   "codemirror_mode": {
    "name": "ipython",
    "version": 3
   },
   "file_extension": ".py",
   "mimetype": "text/x-python",
   "name": "python",
   "nbconvert_exporter": "python",
   "pygments_lexer": "ipython3",
   "version": "3.11.2"
  }
 },
 "nbformat": 4,
 "nbformat_minor": 2
}
